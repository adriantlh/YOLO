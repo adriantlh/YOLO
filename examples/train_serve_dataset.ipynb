{
 "cells": [
  {
   "cell_type": "markdown",
   "metadata": {},
   "source": [
    "# Train YOLO on `serve/Data to train`\n",
    "This notebook trains v9-c on your 7-class dataset and writes:\n",
    "- Checkpoints to `runs/train/<run-name>/`\n",
    "- Exported weights to `runs/train/<run-name>/weights/{best,last}.pt`\n",
    "- Copies best to `serve/weights/model.pt` for serving."
   ]
  },
  {
   "cell_type": "code",
   "execution_count": null,
   "metadata": {},
   "outputs": [],
   "source": [
    "import sys, subprocess\n",
    "subprocess.check_call([sys.executable, '-m', 'pip', 'install', '-r', 'requirements.txt'])"
   ]
  },
  {
   "cell_type": "code",
   "execution_count": null,
   "metadata": {},
   "outputs": [],
   "source": [
    "from pathlib import Path\n",
    "import shutil, sys\n",
    "\n",
    "project_root = Path.cwd()\n",
    "dataset_root = project_root / 'serve' / 'Data to train'\n",
    "assert dataset_root.exists(), f'Dataset root not found: {dataset_root}'\n",
    "\n",
    "def write_file_list(phase: str):\n",
    "    imgdir = dataset_root / phase / 'images'\n",
    "    if not imgdir.is_dir():\n",
    "        print(f'Skipping {phase}: no images dir at {imgdir}')\n",
    "        return\n",
    "    rels = []\n",
    "    for p in sorted(imgdir.glob('*')):\n",
    "        if p.suffix.lower() in {'.jpg', '.jpeg', '.png'}:\n",
    "            rels.append(str(p.relative_to(dataset_root)))\n",
    "    (dataset_root / f'{phase}.txt').write_text('\n'.join(rels))\n",
    "    print(f'Wrote {(dataset_root / f"{phase}.txt").name}: {len(rels)} images')\n",
    "\n",
    "# Remove old caches that may be incompatible across Python versions\n",
    "for p in dataset_root.glob('*.pache'):\n",
    "    try:\n",
    "        p.unlink(); print('Removed stale cache:', p)\n",
    "    except Exception as e:\n",
    "        print('Could not remove cache', p, e)\n",
    "\n",
    "for phase in ['train', 'valid', 'test']:\n",
    "    write_file_list(phase)\n",
    "\n",
    "(project_root / 'serve' / 'weights').mkdir(parents=True, exist_ok=True)\n",
    "print('Prepared lists and serve/weights directory.')"
   ]
  },
  {
   "cell_type": "code",
   "execution_count": null,
   "metadata": {},
   "outputs": [],
   "source": [
    "# Parameters\n",
    "RUN_NAME = 'house-defect-v9c'\n",
    "EPOCHS = 50\n",
    "BATCH_SIZE = 8\n",
    "IMAGE_SIZE = [640, 640]\n",
    "\n",
    "import torch\n",
    "DEVICE = 'cuda' if torch.cuda.is_available() else 'cpu'\n",
    "DEVICE"
   ]
  },
  {
   "cell_type": "code",
   "execution_count": null,
   "metadata": {},
   "outputs": [],
   "source": [
    "# Train\n",
    "import subprocess, shlex, sys\n",
    "img_size_arg = f'image_size=[{IMAGE_SIZE[0]},{IMAGE_SIZE[1]}]'\n",
    "cmd = [\n",
    "    sys.executable, 'yolo/lazy.py',\n",
    "    f'name={RUN_NAME}', 'task=train', 'dataset=serve-data', 'model=v9-c', 'weight=weights/v9-c.pt',\n",
    "    f'task.epoch={EPOCHS}', f'task.data.batch_size={BATCH_SIZE}', 'task.data.cpu_num=4', img_size_arg, f'device={DEVICE}',\n",
    "]\n",
    "print('Running:', ' '.join(shlex.quote(c) for c in cmd))\n",
    "res = subprocess.run(cmd)\n",
    "res.returncode"
   ]
  },
  {
   "cell_type": "code",
   "execution_count": null,
   "metadata": {},
   "outputs": [],
   "source": [
    "# Copy best/last to serve/weights/model.pt\n",
    "run_dir = Path('runs/train') / RUN_NAME\n",
    "best_pt = run_dir / 'weights' / 'best.pt'\n",
    "last_pt = run_dir / 'weights' / 'last.pt'\n",
    "target = Path('serve/weights/model.pt')\n",
    "if best_pt.exists():\n",
    "    shutil.copy2(best_pt, target); print('Copied best ->', target)\n",
    "elif last_pt.exists():\n",
    "    shutil.copy2(last_pt, target); print('Copied last ->', target)\n",
    "else:\n",
    "    raise FileNotFoundError('No exported weights found under ' + str(run_dir / 'weights'))\n",
    "target"
   ]
  }
 ],
 "metadata": {
  "kernelspec": {
   "display_name": "Python 3 (ipykernel)",
   "language": "python",
   "name": "python3"
  },
  "language_info": {
   "name": "python",
   "version": "3.10",
   "mimetype": "text/x-python",
   "codemirror_mode": {
    "name": "ipython",
    "version": 3
   },
   "pygments_lexer": "ipython3",
   "nbconvert_exporter": "python",
   "file_extension": ".py"
  }
 },
 "nbformat": 4,
 "nbformat_minor": 2
}
